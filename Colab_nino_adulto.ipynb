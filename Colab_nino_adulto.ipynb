{
  "nbformat": 4,
  "nbformat_minor": 0,
  "metadata": {
    "colab": {
      "provenance": [],
      "include_colab_link": true
    },
    "kernelspec": {
      "name": "python3",
      "display_name": "Python 3"
    },
    "language_info": {
      "name": "python"
    }
  },
  "cells": [
    {
      "cell_type": "markdown",
      "metadata": {
        "id": "view-in-github",
        "colab_type": "text"
      },
      "source": [
        "<a href=\"https://colab.research.google.com/github/anyacosta/tesis-maestria/blob/master/Colab_nino_adulto.ipynb\" target=\"_parent\"><img src=\"https://colab.research.google.com/assets/colab-badge.svg\" alt=\"Open In Colab\"/></a>"
      ]
    },
    {
      "cell_type": "code",
      "execution_count": null,
      "metadata": {
        "colab": {
          "base_uri": "https://localhost:8080/"
        },
        "id": "kHg_rBR39BpV",
        "outputId": "ed3693c3-3ceb-4318-eff8-503a582ab1d0"
      },
      "outputs": [
        {
          "output_type": "stream",
          "name": "stdout",
          "text": [
            "Mounted at /content/drive\n"
          ]
        }
      ],
      "source": [
        "from google.colab import drive\n",
        "drive.mount('/content/drive')"
      ]
    },
    {
      "cell_type": "code",
      "source": [
        "import os\n",
        "os.chdir(\"/content/drive/MyDrive/TFM/TL/Prueba\")"
      ],
      "metadata": {
        "id": "tSdBCDhg9CyX"
      },
      "execution_count": null,
      "outputs": []
    },
    {
      "cell_type": "code",
      "source": [
        "!ls"
      ],
      "metadata": {
        "colab": {
          "base_uri": "https://localhost:8080/"
        },
        "id": "ZN2m7z899i8W",
        "outputId": "9125c9fc-5c4b-4a1d-f038-38409c28a702"
      },
      "execution_count": null,
      "outputs": [
        {
          "output_type": "stream",
          "name": "stdout",
          "text": [
            "Entrenamiento  Prueba\n"
          ]
        }
      ]
    },
    {
      "cell_type": "code",
      "source": [
        "# Directory with our training child pictures\n",
        "train_child_dir = os.path.join('/content/drive/MyDrive/TFM/TL/Prueba/Entrenamiento/Bebe')\n",
        "\n",
        "# Directory with our training adult pictures\n",
        "train_adult_dir = os.path.join('/content/drive/MyDrive/TFM/TL/Prueba/Entrenamiento/Adulto')\n",
        "\n",
        "# Directory with our test child pictures\n",
        "test_child_dir = os.path.join('/content/drive/MyDrive/TFM/TL/Prueba/Prueba/Bebe')\n",
        "\n",
        "# Directory with our test adult pictures\n",
        "test_adult_dir = os.path.join('/content/drive/MyDrive/TFM/TL/Prueba/Prueba/Adulto')"
      ],
      "metadata": {
        "id": "zDh2cxO59prd"
      },
      "execution_count": null,
      "outputs": []
    },
    {
      "cell_type": "code",
      "source": [
        "train_child_names = os.listdir(train_child_dir)\n",
        "print(train_child_names[:10])\n",
        "\n",
        "train_adult_names = os.listdir(train_adult_dir)\n",
        "print(train_adult_names[:10])\n",
        "\n",
        "test_child_names = os.listdir(test_child_dir)\n",
        "print(test_child_names[:10])\n",
        "\n",
        "test_adult_names = os.listdir(test_adult_dir)\n",
        "print(test_adult_names[:10])"
      ],
      "metadata": {
        "id": "WkedDoAJ93QF"
      },
      "execution_count": null,
      "outputs": []
    },
    {
      "cell_type": "code",
      "source": [
        "print('total training child images:', len(os.listdir(train_child_dir)))\n",
        "print('total training adult images:', len(os.listdir(train_adult_dir)))\n",
        "print('total validation child images:', len(os.listdir(test_child_dir)))\n",
        "print('total validation adult images:', len(os.listdir(test_adult_dir)))"
      ],
      "metadata": {
        "id": "8hElB4nk98uF"
      },
      "execution_count": null,
      "outputs": []
    },
    {
      "cell_type": "code",
      "source": [
        "from tensorflow.keras.preprocessing.image import ImageDataGenerator"
      ],
      "metadata": {
        "id": "0cIzKenz-Btk"
      },
      "execution_count": null,
      "outputs": []
    },
    {
      "cell_type": "code",
      "source": [
        "train_datagen = ImageDataGenerator(rescale=1/255)\n",
        "test_datagen = ImageDataGenerator(rescale=1/255)"
      ],
      "metadata": {
        "id": "yJ6SmqRH-Jkp"
      },
      "execution_count": null,
      "outputs": []
    },
    {
      "cell_type": "code",
      "source": [
        "train_generator = train_datagen.flow_from_directory(\n",
        "        '/content/drive/MyDrive/TFM/TL/Prueba/Entrenamiento/',  # This is the source directory for training images\n",
        "        classes = ['Bebe', 'Adulto'],\n",
        "        target_size=(200,200),  # All images will be resized to 200x200\n",
        "        batch_size=177,\n",
        "        # Use binary labels\n",
        "        class_mode='binary')"
      ],
      "metadata": {
        "colab": {
          "base_uri": "https://localhost:8080/"
        },
        "id": "oBsGoLfh-NNt",
        "outputId": "8adaa0da-d7fe-4fe5-8d3f-e1e0c92fe46a"
      },
      "execution_count": null,
      "outputs": [
        {
          "output_type": "stream",
          "name": "stdout",
          "text": [
            "Found 177 images belonging to 2 classes.\n"
          ]
        }
      ]
    },
    {
      "cell_type": "code",
      "source": [
        "test_generator = test_datagen.flow_from_directory(\n",
        "        '/content/drive/MyDrive/TFM/TL/Prueba/Prueba/',  # This is the source directory for training images\n",
        "        classes = ['Bebe', 'Adulto'],\n",
        "        target_size=(200,200),  # All images will be resized to 200x200\n",
        "        batch_size=28,\n",
        "        # Use binary labels\n",
        "        class_mode='binary',\n",
        "        shuffle=False)"
      ],
      "metadata": {
        "colab": {
          "base_uri": "https://localhost:8080/"
        },
        "id": "sI61SwjU-2VY",
        "outputId": "36b1772b-1130-4e9f-f2b4-281edaf5a9b8"
      },
      "execution_count": null,
      "outputs": [
        {
          "output_type": "stream",
          "name": "stdout",
          "text": [
            "Found 28 images belonging to 2 classes.\n"
          ]
        }
      ]
    },
    {
      "cell_type": "code",
      "source": [
        "train_generator.class_indices\n",
        "\n",
        "test_generator.class_indices"
      ],
      "metadata": {
        "colab": {
          "base_uri": "https://localhost:8080/"
        },
        "id": "Ew_Ug8U__P8R",
        "outputId": "8cc18ce2-055c-4091-9513-bb6f27df23b1"
      },
      "execution_count": null,
      "outputs": [
        {
          "output_type": "execute_result",
          "data": {
            "text/plain": [
              "{'Bebe': 0, 'Adulto': 1}"
            ]
          },
          "metadata": {},
          "execution_count": 180
        }
      ]
    },
    {
      "cell_type": "code",
      "source": [
        "import tensorflow as tf\n",
        "from tensorflow.keras.applications.resnet50 import ResNet50\n",
        "from tensorflow.keras.applications import MobileNetV2\n",
        "from tensorflow.keras.applications import VGG16\n",
        "from tensorflow.keras.applications import VGG19\n",
        "from tensorflow.keras.applications import EfficientNetB0\n",
        "from tensorflow.keras.applications import EfficientNetB7\n",
        "from tensorflow.keras.applications.inception_v3 import InceptionV3\n",
        "from tensorflow.keras.applications import ResNet50\n",
        "from tensorflow.keras.models import Sequential\n",
        "from tensorflow.keras.layers import Flatten\n",
        "from tensorflow.keras.layers import Dense\n",
        "import numpy as np\n",
        "from itertools import cycle\n",
        "\n",
        "from sklearn import svm, datasets\n",
        "from sklearn.metrics import roc_curve, auc\n",
        "from sklearn.model_selection import train_test_split\n",
        "from sklearn.preprocessing import label_binarize\n",
        "from sklearn.multiclass import OneVsRestClassifier\n",
        "from scipy import interp\n",
        "from sklearn.metrics import roc_auc_score"
      ],
      "metadata": {
        "id": "LvckRZFA_Sim"
      },
      "execution_count": null,
      "outputs": []
    },
    {
      "cell_type": "code",
      "source": [
        "config = tf.compat.v1.ConfigProto()\n",
        "config.gpu_options.allow_growth=True\n",
        "sess = tf.compat.v1.Session(config=config)"
      ],
      "metadata": {
        "id": "UJFiynPJ_XH9"
      },
      "execution_count": null,
      "outputs": []
    },
    {
      "cell_type": "code",
      "source": [
        "model = Sequential()\n",
        "model.add(MobileNetV2(include_top = False, weights=\"imagenet\", input_shape=(200, 200, 3)))\n",
        "model.add(tf.keras.layers.Flatten())\n",
        "\n",
        "\n",
        "model.add(Dense(512,activation='relu')),\n",
        "model.add(Dense(256,activation='relu')),\n",
        "\n",
        "model.add(Dense(1, activation = 'sigmoid'))\n",
        "model.layers[0].trainable = False"
      ],
      "metadata": {
        "colab": {
          "base_uri": "https://localhost:8080/"
        },
        "id": "yrNFOVrR_Z4n",
        "outputId": "cef7250f-42fc-4513-b5fa-db2519921ade"
      },
      "execution_count": null,
      "outputs": [
        {
          "output_type": "stream",
          "name": "stderr",
          "text": [
            "WARNING:tensorflow:`input_shape` is undefined or non-square, or `rows` is not in [96, 128, 160, 192, 224]. Weights for input shape (224, 224) will be loaded as the default.\n"
          ]
        }
      ]
    },
    {
      "cell_type": "code",
      "source": [
        "(x_train, y_train), (x_test, y_test) = keras.datasets.mnist.load_data()\n",
        "\n",
        "# Preprocess the data (these are NumPy arrays)\n",
        "x_train = x_train.reshape(60000, 784).astype(\"float32\") / 255\n",
        "x_test = x_test.reshape(10000, 784).astype(\"float32\") / 255\n",
        "\n",
        "y_train = y_train.astype(\"float32\")\n",
        "y_test = y_test.astype(\"float32\")\n",
        "\n",
        "# Reserve 10,000 samples for validation\n",
        "x_val = x_train[-10000:]\n",
        "y_val = y_train[-10000:]\n",
        "x_train = x_train[:-10000]\n",
        "y_train = y_train[:-10000]"
      ],
      "metadata": {
        "id": "sKtsvlMKFQno"
      },
      "execution_count": null,
      "outputs": []
    },
    {
      "cell_type": "code",
      "source": [
        "model.summary()"
      ],
      "metadata": {
        "colab": {
          "base_uri": "https://localhost:8080/"
        },
        "id": "MlZI3M8GMdjb",
        "outputId": "afed0a23-ca2d-4a40-daac-ce93426c0958"
      },
      "execution_count": null,
      "outputs": [
        {
          "output_type": "stream",
          "name": "stdout",
          "text": [
            "Model: \"sequential_9\"\n",
            "_________________________________________________________________\n",
            " Layer (type)                Output Shape              Param #   \n",
            "=================================================================\n",
            " mobilenetv2_1.00_224 (Funct  (None, 7, 7, 1280)       2257984   \n",
            " ional)                                                          \n",
            "                                                                 \n",
            " flatten_7 (Flatten)         (None, 62720)             0         \n",
            "                                                                 \n",
            " dense_19 (Dense)            (None, 512)               32113152  \n",
            "                                                                 \n",
            " dense_20 (Dense)            (None, 256)               131328    \n",
            "                                                                 \n",
            " dense_21 (Dense)            (None, 1)                 257       \n",
            "                                                                 \n",
            "=================================================================\n",
            "Total params: 34,502,721\n",
            "Trainable params: 32,244,737\n",
            "Non-trainable params: 2,257,984\n",
            "_________________________________________________________________\n"
          ]
        }
      ]
    },
    {
      "cell_type": "code",
      "source": [
        "model.compile(optimizer = tf.optimizers.Adam(),\n",
        "              loss = 'binary_crossentropy',\n",
        "              metrics=['accuracy'])"
      ],
      "metadata": {
        "id": "feZP76LwTv2d"
      },
      "execution_count": null,
      "outputs": []
    },
    {
      "cell_type": "code",
      "source": [
        "x_train.shape"
      ],
      "metadata": {
        "colab": {
          "base_uri": "https://localhost:8080/"
        },
        "id": "7CCID9pbXpHs",
        "outputId": "39a813b9-0c28-4b2a-f9a2-8963b275bb88"
      },
      "execution_count": null,
      "outputs": [
        {
          "output_type": "execute_result",
          "data": {
            "text/plain": [
              "(50000, 784)"
            ]
          },
          "metadata": {},
          "execution_count": 187
        }
      ]
    },
    {
      "cell_type": "code",
      "source": [
        "history = model.fit(train_generator,\n",
        "      steps_per_epoch=26,  \n",
        "      epochs=20,\n",
        "      verbose=1,\n",
        "      validation_data = test_generator,\n",
        "      validation_steps=28)"
      ],
      "metadata": {
        "colab": {
          "base_uri": "https://localhost:8080/"
        },
        "id": "z4jei6QRPhJ1",
        "outputId": "5b4975f8-a589-4e14-c405-2c17cfd5126a"
      },
      "execution_count": null,
      "outputs": [
        {
          "output_type": "stream",
          "name": "stdout",
          "text": [
            "Epoch 1/20\n",
            " 1/26 [>.............................] - ETA: 4:39 - loss: 0.9957 - accuracy: 0.5311"
          ]
        },
        {
          "output_type": "stream",
          "name": "stderr",
          "text": [
            "WARNING:tensorflow:Your input ran out of data; interrupting training. Make sure that your dataset or generator can generate at least `steps_per_epoch * epochs` batches (in this case, 520 batches). You may need to use the repeat() function when building your dataset.\n",
            "WARNING:tensorflow:Your input ran out of data; interrupting training. Make sure that your dataset or generator can generate at least `steps_per_epoch * epochs` batches (in this case, 28 batches). You may need to use the repeat() function when building your dataset.\n"
          ]
        },
        {
          "output_type": "stream",
          "name": "stdout",
          "text": [
            "\b\b\b\b\b\b\b\b\b\b\b\b\b\b\b\b\b\b\b\b\b\b\b\b\b\b\b\b\b\b\b\b\b\b\b\b\b\b\b\b\b\b\b\b\b\b\b\b\b\b\b\b\b\b\b\b\b\b\b\b\b\b\b\b\b\b\b\b\b\b\b\b\b\b\b\b\b\b\b\b\b\b\b\b\r26/26 [==============================] - 21s 373ms/step - loss: 0.9957 - accuracy: 0.5311 - val_loss: 57.2195 - val_accuracy: 0.5357\n"
          ]
        }
      ]
    },
    {
      "cell_type": "code",
      "source": [
        "import matplotlib.pyplot as plt\n",
        "\n",
        "plt.plot(history.history['accuracy'], label='accuracy')\n",
        "plt.plot(history.history['val_accuracy'], label = 'val_accuracy')\n",
        "plt.xlabel('Epoch')\n",
        "plt.ylabel('Accuracy')\n",
        "plt.ylim([0.5, 1])\n",
        "plt.legend(loc='lower right')"
      ],
      "metadata": {
        "id": "M073VtFoXJZ3",
        "outputId": "42ecf298-b967-4f8d-f7d2-1663beb822ec",
        "colab": {
          "base_uri": "https://localhost:8080/",
          "height": 300
        }
      },
      "execution_count": null,
      "outputs": [
        {
          "output_type": "execute_result",
          "data": {
            "text/plain": [
              "<matplotlib.legend.Legend at 0x7fa67ca91490>"
            ]
          },
          "metadata": {},
          "execution_count": 189
        },
        {
          "output_type": "display_data",
          "data": {
            "text/plain": [
              "<Figure size 432x288 with 1 Axes>"
            ],
            "image/png": "[encoded data removed]"
          },
          "metadata": {
            "needs_background": "light"
          }
        }
      ]
    },
    {
      "cell_type": "code",
      "source": [
        "from tensorflow.keras.models import Sequential, save_model, load_model\n",
        "filepath = '/content/drive/MyDrive/TFM/TL/Prueba/Entrenamiento/saved_model'\n",
        "save_model(model, filepath)"
      ],
      "metadata": {
        "id": "9bC2MxfGYX__",
        "outputId": "0c2a6dfc-e28e-46a4-e155-c1c88ed7cde6",
        "colab": {
          "base_uri": "https://localhost:8080/"
        }
      },
      "execution_count": null,
      "outputs": [
        {
          "output_type": "stream",
          "name": "stderr",
          "text": [
            "WARNING:absl:Function `_wrapped_model` contains input name(s) mobilenetv2_1.00_224_input with unsupported characters which will be renamed to mobilenetv2_1_00_224_input in the SavedModel.\n"
          ]
        }
      ]
    },
    {
      "cell_type": "code",
      "source": [
        "from tensorflow.keras.models import Sequential, save_model, load_model\n",
        "filepath = '/content/drive/MyDrive/TFM/TL/Prueba/Entrenamiento/saved_model/'\n",
        "# Load the model\n",
        "model = load_model(filepath, compile = True)"
      ],
      "metadata": {
        "id": "i1wHtnUfYjOj"
      },
      "execution_count": null,
      "outputs": []
    },
    {
      "cell_type": "code",
      "source": [
        "model.evaluate(test_generator)"
      ],
      "metadata": {
        "id": "xDpSWR--Ymes",
        "outputId": "2c2af43f-b42e-4926-fd02-5673a0cec394",
        "colab": {
          "base_uri": "https://localhost:8080/"
        }
      },
      "execution_count": null,
      "outputs": [
        {
          "output_type": "stream",
          "name": "stdout",
          "text": [
            "1/1 [==============================] - 4s 4s/step - loss: 57.2195 - accuracy: 0.5357\n"
          ]
        },
        {
          "output_type": "execute_result",
          "data": {
            "text/plain": [
              "[57.21954345703125, 0.5357142686843872]"
            ]
          },
          "metadata": {},
          "execution_count": 192
        }
      ]
    },
    {
      "cell_type": "code",
      "source": [
        "STEP_SIZE_TEST=test_generator.n//test_generator.batch_size\n",
        "test_generator.reset()\n",
        "preds = model.predict(test_generator,\n",
        "                      verbose=1)\n",
        "\n",
        "print(preds[10])\n",
        "\n",
        "print(\"prediction shape:\", preds.shape)"
      ],
      "metadata": {
        "id": "QAmEPGjxYoqw",
        "outputId": "2abbef9c-f07b-44b8-fb93-4550a768b327",
        "colab": {
          "base_uri": "https://localhost:8080/"
        }
      },
      "execution_count": null,
      "outputs": [
        {
          "output_type": "stream",
          "name": "stdout",
          "text": [
            "1/1 [==============================] - 1s 986ms/step\n",
            "[1.]\n",
            "prediction shape: (28, 1)\n"
          ]
        }
      ]
    },
    {
      "cell_type": "code",
      "source": [
        "from sklearn.metrics import classification_report, confusion_matrix\n",
        "# Generate the predictions for each image\n",
        "classes = np.greater(preds, .5)\n",
        "print(1*classes)\n",
        "\n",
        "#Predictions for first childs\n",
        "print(1*classes[:5]) \n",
        "print(test_generator.classes[:5])\n",
        "\n",
        "#Predictions for first adults\n",
        "print(1*classes[956:960]) \n",
        "print(test_generator.classes[956:960])"
      ],
      "metadata": {
        "id": "dZicKSEoYrbU",
        "outputId": "89e9e8aa-d0d8-4ad0-cfce-8a974fb89e62",
        "colab": {
          "base_uri": "https://localhost:8080/"
        }
      },
      "execution_count": null,
      "outputs": [
        {
          "output_type": "stream",
          "name": "stdout",
          "text": [
            "[[1]\n",
            " [1]\n",
            " [1]\n",
            " [1]\n",
            " [1]\n",
            " [1]\n",
            " [1]\n",
            " [1]\n",
            " [1]\n",
            " [1]\n",
            " [1]\n",
            " [1]\n",
            " [1]\n",
            " [1]\n",
            " [1]\n",
            " [1]\n",
            " [1]\n",
            " [1]\n",
            " [1]\n",
            " [1]\n",
            " [1]\n",
            " [1]\n",
            " [1]\n",
            " [1]\n",
            " [1]\n",
            " [1]\n",
            " [1]\n",
            " [1]]\n",
            "[[1]\n",
            " [1]\n",
            " [1]\n",
            " [1]\n",
            " [1]]\n",
            "[0 0 0 0 0]\n",
            "[]\n",
            "[]\n"
          ]
        }
      ]
    },
    {
      "cell_type": "code",
      "source": [
        "from sklearn.metrics import precision_score, recall_score, f1_score, accuracy_score\n",
        "#The confusion_matrix displays a table showing the true positives, true negatives, false positives, and false negatives.\n",
        "print('Confusion Matrix')\n",
        "cm = confusion_matrix(test_generator.classes, classes)\n",
        "print(cm)\n",
        "\n",
        "print('Precision: %.5f' % precision_score(test_generator.classes, classes))\n",
        "print('Recall: %.5f' % recall_score(test_generator.classes, classes))\n",
        "\n",
        "NPV = cm[0][1]/(cm[0][1]+cm[1][0])\n",
        "print('Specificity: %.5f' % NPV)\n",
        "\n",
        "print('Accuracy: %.5f' % accuracy_score(test_generator.classes, classes))\n",
        "print('F1 Score: %.5f' % f1_score(test_generator.classes, classes))"
      ],
      "metadata": {
        "id": "1XvxNOxkYt9s",
        "outputId": "68fc8821-54b6-45e9-f2b7-6618af31cbd2",
        "colab": {
          "base_uri": "https://localhost:8080/"
        }
      },
      "execution_count": null,
      "outputs": [
        {
          "output_type": "stream",
          "name": "stdout",
          "text": [
            "Confusion Matrix\n",
            "[[ 0 13]\n",
            " [ 0 15]]\n",
            "Precision: 0.53571\n",
            "Recall: 1.00000\n",
            "Specificity: 1.00000\n",
            "Accuracy: 0.53571\n",
            "F1 Score: 0.69767\n"
          ]
        }
      ]
    },
    {
      "cell_type": "code",
      "source": [
        "import matplotlib.pyplot as plt\n",
        "import matplotlib.image as mpimg\n",
        "\n",
        "fpr, tpr, _ = roc_curve(test_generator.classes, preds)\n",
        "roc_auc = auc(fpr, tpr)\n",
        "plt.figure()\n",
        "lw = 2\n",
        "plt.plot(fpr, tpr, color='darkorange',\n",
        "         lw=lw, label='ROC curve (area = %0.2f)' % roc_auc)\n",
        "plt.plot([0, 1], [0, 1], color='navy', lw=lw, linestyle='--')\n",
        "plt.xlim([0.0, 1.0])\n",
        "plt.ylim([0.0, 1.05])\n",
        "plt.xlabel('False Positive Rate')\n",
        "plt.ylabel('True Positive Rate')\n",
        "plt.title('Receiver Operating Characteristic')\n",
        "plt.legend(loc=\"lower right\")\n",
        "plt.show()\n"
      ],
      "metadata": {
        "id": "mTX_TLRzYzN9",
        "outputId": "a29da445-d5c2-4cdf-80d7-ad1e19b98564",
        "colab": {
          "base_uri": "https://localhost:8080/",
          "height": 295
        }
      },
      "execution_count": null,
      "outputs": [
        {
          "output_type": "display_data",
          "data": {
            "text/plain": [
              "<Figure size 432x288 with 1 Axes>"
            ],
            "image/png": "[encoded data removed]"
          },
          "metadata": {
            "needs_background": "light"
          }
        }
      ]
    }
  ]
}